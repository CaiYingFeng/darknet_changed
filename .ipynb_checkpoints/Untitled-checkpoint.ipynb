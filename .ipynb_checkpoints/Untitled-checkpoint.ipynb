{
 "cells": [
  {
   "cell_type": "code",
   "execution_count": 6,
   "metadata": {},
   "outputs": [
    {
     "name": "stdout",
     "output_type": "stream",
     "text": [
      "[[False  True False ... False False False]\n",
      " [False  True False ... False False False]\n",
      " [False  True False ...  True False False]\n",
      " ...\n",
      " [False False False ... False  True False]\n",
      " [False False False ... False  True False]\n",
      " [False False False ... False False  True]]\n"
     ]
    }
   ],
   "source": [
    "from PIL import Image\n",
    "import numpy as np\n",
    "im = Image.open('/home/autolab/caiyingfeng/huawei/mask/705.jpg.png')\n",
    "#im.show()\n",
    "im_a=np.array(im)\n",
    "print(im_a)"
   ]
  },
  {
   "cell_type": "code",
   "execution_count": 6,
   "metadata": {},
   "outputs": [
    {
     "name": "stdout",
     "output_type": "stream",
     "text": [
      "(1200, 1920, 3)\n",
      "[[41 41 41]\n",
      " [44 44 44]\n",
      " [47 47 47]\n",
      " ...\n",
      " [65 65 65]\n",
      " [58 58 58]\n",
      " [67 67 67]] ---\n",
      "[[44 44 44]\n",
      " [45 45 45]\n",
      " [46 46 46]\n",
      " ...\n",
      " [68 68 68]\n",
      " [60 60 60]\n",
      " [70 70 70]]\n",
      "[[48 48 48]\n",
      " [46 46 46]\n",
      " [44 44 44]\n",
      " ...\n",
      " [60 60 60]\n",
      " [52 52 52]\n",
      " [61 61 61]]\n"
     ]
    }
   ],
   "source": [
    "import numpy as np\n",
    "import cv2\n",
    "\n",
    "image = cv2.imread(\"/home/autolab/caiyingfeng/darknet/data/out/1594465482.067260.jpg\")\n",
    "print(image.shape)\n",
    "print(image[0],\"---\")\n",
    "print(image[1],\"---\")\n",
    "print(image[2],\"---\")"
   ]
  },
  {
   "cell_type": "code",
   "execution_count": null,
   "metadata": {},
   "outputs": [],
   "source": []
  }
 ],
 "metadata": {
  "kernelspec": {
   "display_name": "Python 3",
   "language": "python",
   "name": "python3"
  },
  "language_info": {
   "codemirror_mode": {
    "name": "ipython",
    "version": 3
   },
   "file_extension": ".py",
   "mimetype": "text/x-python",
   "name": "python",
   "nbconvert_exporter": "python",
   "pygments_lexer": "ipython3",
   "version": "3.6.10"
  }
 },
 "nbformat": 4,
 "nbformat_minor": 4
}
