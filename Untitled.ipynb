{
 "cells": [
  {
   "cell_type": "code",
   "execution_count": 6,
   "metadata": {
    "tags": []
   },
   "outputs": [
    {
     "output_type": "stream",
     "name": "stdout",
     "text": "[[False False False ... False False False]\n [False False False ...  True False  True]\n [False False False ... False  True False]\n ...\n [False  True False ... False False False]\n [False  True False ... False False False]\n [ True False False ... False  True False]]\n"
    }
   ],
   "source": [
    "from PIL import Image\n",
    "import numpy as np\n",
    "im = Image.open(\"/home/autolab/caiyingfeng/darknet/data/out/240.jpg.png.png\")\n",
    "#im = Image.open(\"/home/autolab/caiyingfeng/darknet/data/out/1594465334.932557.png\")\n",
    "#im.show()\n",
    "im_a=np.array(im)\n",
    "print(im_a)"
   ]
  },
  {
   "cell_type": "code",
   "execution_count": 7,
   "metadata": {
    "tags": []
   },
   "outputs": [
    {
     "output_type": "stream",
     "name": "stdout",
     "text": "(1200, 1920, 3)\n[[[255 255 255]\n  [255 255 255]\n  [255 255 255]\n  ...\n  [255 255 255]\n  [255 255 255]\n  [255 255 255]]\n\n [[255 255 255]\n  [255 255 255]\n  [255 255 255]\n  ...\n  [255 255 255]\n  [255 255 255]\n  [255 255 255]]\n\n [[255 255 255]\n  [255 255 255]\n  [255 255 255]\n  ...\n  [  0   0   0]\n  [  0   0   0]\n  [  0   0   0]]\n\n ...\n\n [[255 255 255]\n  [255 255 255]\n  [255 255 255]\n  ...\n  [  0   0   0]\n  [255 255 255]\n  [  0   0   0]]\n\n [[255 255 255]\n  [255 255 255]\n  [255 255 255]\n  ...\n  [  0   0   0]\n  [255 255 255]\n  [255 255 255]]\n\n [[255 255 255]\n  [255 255 255]\n  [255 255 255]\n  ...\n  [  0   0   0]\n  [255 255 255]\n  [255 255 255]]]\n"
    }
   ],
   "source": [
    "import numpy as np\n",
    "import cv2\n",
    "\n",
    "image = cv2.imread(\"/home/autolab/caiyingfeng/darknet/data/out/1594465334.932557.png\")\n",
    "print(image.shape)\n",
    "im_a=np.array(image)\n",
    "print(im_a)"
   ]
  },
  {
   "cell_type": "code",
   "execution_count": null,
   "metadata": {},
   "outputs": [],
   "source": []
  }
 ],
 "metadata": {
  "kernelspec": {
   "display_name": "Python 3",
   "language": "python",
   "name": "python3"
  },
  "language_info": {
   "codemirror_mode": {
    "name": "ipython",
    "version": 3
   },
   "file_extension": ".py",
   "mimetype": "text/x-python",
   "name": "python",
   "nbconvert_exporter": "python",
   "pygments_lexer": "ipython3",
   "version": "3.6.10"
  }
 },
 "nbformat": 4,
 "nbformat_minor": 4
}